{
 "cells": [
  {
   "cell_type": "code",
   "execution_count": 1,
   "metadata": {},
   "outputs": [],
   "source": [
    "import numpy as np\n",
    "import matplotlib.pyplot as plt\n",
    "import pandas as pd"
   ]
  },
  {
   "cell_type": "code",
   "execution_count": 4,
   "metadata": {},
   "outputs": [],
   "source": [
    "dataset = pd.read_csv('Data/Crop_recommendation.csv')\n",
    "X = dataset.iloc[:, :-1].values\n",
    "y = dataset.iloc[:, -1].values"
   ]
  },
  {
   "cell_type": "code",
   "execution_count": 5,
   "metadata": {},
   "outputs": [
    {
     "output_type": "execute_result",
     "data": {
      "text/plain": [
       "        N   P   K  temperature   humidity        ph    rainfall   label\n",
       "0      90  42  43    20.879744  82.002744  6.502985  202.935536    rice\n",
       "1      85  58  41    21.770462  80.319644  7.038096  226.655537    rice\n",
       "2      60  55  44    23.004459  82.320763  7.840207  263.964248    rice\n",
       "3      74  35  40    26.491096  80.158363  6.980401  242.864034    rice\n",
       "4      78  42  42    20.130175  81.604873  7.628473  262.717340    rice\n",
       "...   ...  ..  ..          ...        ...       ...         ...     ...\n",
       "2195  107  34  32    26.774637  66.413269  6.780064  177.774507  coffee\n",
       "2196   99  15  27    27.417112  56.636362  6.086922  127.924610  coffee\n",
       "2197  118  33  30    24.131797  67.225123  6.362608  173.322839  coffee\n",
       "2198  117  32  34    26.272418  52.127394  6.758793  127.175293  coffee\n",
       "2199  104  18  30    23.603016  60.396475  6.779833  140.937041  coffee\n",
       "\n",
       "[2200 rows x 8 columns]"
      ],
      "text/html": "<div>\n<style scoped>\n    .dataframe tbody tr th:only-of-type {\n        vertical-align: middle;\n    }\n\n    .dataframe tbody tr th {\n        vertical-align: top;\n    }\n\n    .dataframe thead th {\n        text-align: right;\n    }\n</style>\n<table border=\"1\" class=\"dataframe\">\n  <thead>\n    <tr style=\"text-align: right;\">\n      <th></th>\n      <th>N</th>\n      <th>P</th>\n      <th>K</th>\n      <th>temperature</th>\n      <th>humidity</th>\n      <th>ph</th>\n      <th>rainfall</th>\n      <th>label</th>\n    </tr>\n  </thead>\n  <tbody>\n    <tr>\n      <th>0</th>\n      <td>90</td>\n      <td>42</td>\n      <td>43</td>\n      <td>20.879744</td>\n      <td>82.002744</td>\n      <td>6.502985</td>\n      <td>202.935536</td>\n      <td>rice</td>\n    </tr>\n    <tr>\n      <th>1</th>\n      <td>85</td>\n      <td>58</td>\n      <td>41</td>\n      <td>21.770462</td>\n      <td>80.319644</td>\n      <td>7.038096</td>\n      <td>226.655537</td>\n      <td>rice</td>\n    </tr>\n    <tr>\n      <th>2</th>\n      <td>60</td>\n      <td>55</td>\n      <td>44</td>\n      <td>23.004459</td>\n      <td>82.320763</td>\n      <td>7.840207</td>\n      <td>263.964248</td>\n      <td>rice</td>\n    </tr>\n    <tr>\n      <th>3</th>\n      <td>74</td>\n      <td>35</td>\n      <td>40</td>\n      <td>26.491096</td>\n      <td>80.158363</td>\n      <td>6.980401</td>\n      <td>242.864034</td>\n      <td>rice</td>\n    </tr>\n    <tr>\n      <th>4</th>\n      <td>78</td>\n      <td>42</td>\n      <td>42</td>\n      <td>20.130175</td>\n      <td>81.604873</td>\n      <td>7.628473</td>\n      <td>262.717340</td>\n      <td>rice</td>\n    </tr>\n    <tr>\n      <th>...</th>\n      <td>...</td>\n      <td>...</td>\n      <td>...</td>\n      <td>...</td>\n      <td>...</td>\n      <td>...</td>\n      <td>...</td>\n      <td>...</td>\n    </tr>\n    <tr>\n      <th>2195</th>\n      <td>107</td>\n      <td>34</td>\n      <td>32</td>\n      <td>26.774637</td>\n      <td>66.413269</td>\n      <td>6.780064</td>\n      <td>177.774507</td>\n      <td>coffee</td>\n    </tr>\n    <tr>\n      <th>2196</th>\n      <td>99</td>\n      <td>15</td>\n      <td>27</td>\n      <td>27.417112</td>\n      <td>56.636362</td>\n      <td>6.086922</td>\n      <td>127.924610</td>\n      <td>coffee</td>\n    </tr>\n    <tr>\n      <th>2197</th>\n      <td>118</td>\n      <td>33</td>\n      <td>30</td>\n      <td>24.131797</td>\n      <td>67.225123</td>\n      <td>6.362608</td>\n      <td>173.322839</td>\n      <td>coffee</td>\n    </tr>\n    <tr>\n      <th>2198</th>\n      <td>117</td>\n      <td>32</td>\n      <td>34</td>\n      <td>26.272418</td>\n      <td>52.127394</td>\n      <td>6.758793</td>\n      <td>127.175293</td>\n      <td>coffee</td>\n    </tr>\n    <tr>\n      <th>2199</th>\n      <td>104</td>\n      <td>18</td>\n      <td>30</td>\n      <td>23.603016</td>\n      <td>60.396475</td>\n      <td>6.779833</td>\n      <td>140.937041</td>\n      <td>coffee</td>\n    </tr>\n  </tbody>\n</table>\n<p>2200 rows × 8 columns</p>\n</div>"
     },
     "metadata": {},
     "execution_count": 5
    }
   ],
   "source": [
    "dataset"
   ]
  },
  {
   "cell_type": "code",
   "execution_count": 6,
   "metadata": {},
   "outputs": [
    {
     "output_type": "execute_result",
     "data": {
      "text/plain": [
       "    N   P   K  temperature   humidity        ph    rainfall label\n",
       "0  90  42  43    20.879744  82.002744  6.502985  202.935536  rice\n",
       "1  85  58  41    21.770462  80.319644  7.038096  226.655537  rice\n",
       "2  60  55  44    23.004459  82.320763  7.840207  263.964248  rice\n",
       "3  74  35  40    26.491096  80.158363  6.980401  242.864034  rice\n",
       "4  78  42  42    20.130175  81.604873  7.628473  262.717340  rice"
      ],
      "text/html": "<div>\n<style scoped>\n    .dataframe tbody tr th:only-of-type {\n        vertical-align: middle;\n    }\n\n    .dataframe tbody tr th {\n        vertical-align: top;\n    }\n\n    .dataframe thead th {\n        text-align: right;\n    }\n</style>\n<table border=\"1\" class=\"dataframe\">\n  <thead>\n    <tr style=\"text-align: right;\">\n      <th></th>\n      <th>N</th>\n      <th>P</th>\n      <th>K</th>\n      <th>temperature</th>\n      <th>humidity</th>\n      <th>ph</th>\n      <th>rainfall</th>\n      <th>label</th>\n    </tr>\n  </thead>\n  <tbody>\n    <tr>\n      <th>0</th>\n      <td>90</td>\n      <td>42</td>\n      <td>43</td>\n      <td>20.879744</td>\n      <td>82.002744</td>\n      <td>6.502985</td>\n      <td>202.935536</td>\n      <td>rice</td>\n    </tr>\n    <tr>\n      <th>1</th>\n      <td>85</td>\n      <td>58</td>\n      <td>41</td>\n      <td>21.770462</td>\n      <td>80.319644</td>\n      <td>7.038096</td>\n      <td>226.655537</td>\n      <td>rice</td>\n    </tr>\n    <tr>\n      <th>2</th>\n      <td>60</td>\n      <td>55</td>\n      <td>44</td>\n      <td>23.004459</td>\n      <td>82.320763</td>\n      <td>7.840207</td>\n      <td>263.964248</td>\n      <td>rice</td>\n    </tr>\n    <tr>\n      <th>3</th>\n      <td>74</td>\n      <td>35</td>\n      <td>40</td>\n      <td>26.491096</td>\n      <td>80.158363</td>\n      <td>6.980401</td>\n      <td>242.864034</td>\n      <td>rice</td>\n    </tr>\n    <tr>\n      <th>4</th>\n      <td>78</td>\n      <td>42</td>\n      <td>42</td>\n      <td>20.130175</td>\n      <td>81.604873</td>\n      <td>7.628473</td>\n      <td>262.717340</td>\n      <td>rice</td>\n    </tr>\n  </tbody>\n</table>\n</div>"
     },
     "metadata": {},
     "execution_count": 6
    }
   ],
   "source": [
    "dataset.head()"
   ]
  },
  {
   "cell_type": "code",
   "execution_count": 7,
   "metadata": {},
   "outputs": [
    {
     "output_type": "stream",
     "name": "stdout",
     "text": [
      "<class 'pandas.core.frame.DataFrame'>\nRangeIndex: 2200 entries, 0 to 2199\nData columns (total 8 columns):\n #   Column       Non-Null Count  Dtype  \n---  ------       --------------  -----  \n 0   N            2200 non-null   int64  \n 1   P            2200 non-null   int64  \n 2   K            2200 non-null   int64  \n 3   temperature  2200 non-null   float64\n 4   humidity     2200 non-null   float64\n 5   ph           2200 non-null   float64\n 6   rainfall     2200 non-null   float64\n 7   label        2200 non-null   object \ndtypes: float64(4), int64(3), object(1)\nmemory usage: 137.6+ KB\n"
     ]
    }
   ],
   "source": [
    "dataset.info()"
   ]
  },
  {
   "cell_type": "code",
   "execution_count": 70,
   "metadata": {},
   "outputs": [
    {
     "data": {
      "text/html": [
       "<div>\n",
       "<style scoped>\n",
       "    .dataframe tbody tr th:only-of-type {\n",
       "        vertical-align: middle;\n",
       "    }\n",
       "\n",
       "    .dataframe tbody tr th {\n",
       "        vertical-align: top;\n",
       "    }\n",
       "\n",
       "    .dataframe thead th {\n",
       "        text-align: right;\n",
       "    }\n",
       "</style>\n",
       "<table border=\"1\" class=\"dataframe\">\n",
       "  <thead>\n",
       "    <tr style=\"text-align: right;\">\n",
       "      <th></th>\n",
       "      <th>N</th>\n",
       "      <th>P</th>\n",
       "      <th>K</th>\n",
       "      <th>temperature</th>\n",
       "      <th>humidity</th>\n",
       "      <th>ph</th>\n",
       "      <th>rainfall</th>\n",
       "      <th>label</th>\n",
       "    </tr>\n",
       "  </thead>\n",
       "  <tbody>\n",
       "    <tr>\n",
       "      <th>2195</th>\n",
       "      <td>107</td>\n",
       "      <td>34</td>\n",
       "      <td>32</td>\n",
       "      <td>26.774637</td>\n",
       "      <td>66.413269</td>\n",
       "      <td>6.780064</td>\n",
       "      <td>177.774507</td>\n",
       "      <td>coffee</td>\n",
       "    </tr>\n",
       "    <tr>\n",
       "      <th>2196</th>\n",
       "      <td>99</td>\n",
       "      <td>15</td>\n",
       "      <td>27</td>\n",
       "      <td>27.417112</td>\n",
       "      <td>56.636362</td>\n",
       "      <td>6.086922</td>\n",
       "      <td>127.924610</td>\n",
       "      <td>coffee</td>\n",
       "    </tr>\n",
       "    <tr>\n",
       "      <th>2197</th>\n",
       "      <td>118</td>\n",
       "      <td>33</td>\n",
       "      <td>30</td>\n",
       "      <td>24.131797</td>\n",
       "      <td>67.225123</td>\n",
       "      <td>6.362608</td>\n",
       "      <td>173.322839</td>\n",
       "      <td>coffee</td>\n",
       "    </tr>\n",
       "    <tr>\n",
       "      <th>2198</th>\n",
       "      <td>117</td>\n",
       "      <td>32</td>\n",
       "      <td>34</td>\n",
       "      <td>26.272418</td>\n",
       "      <td>52.127394</td>\n",
       "      <td>6.758793</td>\n",
       "      <td>127.175293</td>\n",
       "      <td>coffee</td>\n",
       "    </tr>\n",
       "    <tr>\n",
       "      <th>2199</th>\n",
       "      <td>104</td>\n",
       "      <td>18</td>\n",
       "      <td>30</td>\n",
       "      <td>23.603016</td>\n",
       "      <td>60.396475</td>\n",
       "      <td>6.779833</td>\n",
       "      <td>140.937041</td>\n",
       "      <td>coffee</td>\n",
       "    </tr>\n",
       "  </tbody>\n",
       "</table>\n",
       "</div>"
      ],
      "text/plain": [
       "        N   P   K  temperature   humidity        ph    rainfall   label\n",
       "2195  107  34  32    26.774637  66.413269  6.780064  177.774507  coffee\n",
       "2196   99  15  27    27.417112  56.636362  6.086922  127.924610  coffee\n",
       "2197  118  33  30    24.131797  67.225123  6.362608  173.322839  coffee\n",
       "2198  117  32  34    26.272418  52.127394  6.758793  127.175293  coffee\n",
       "2199  104  18  30    23.603016  60.396475  6.779833  140.937041  coffee"
      ]
     },
     "execution_count": 70,
     "metadata": {},
     "output_type": "execute_result"
    }
   ],
   "source": [
    "dataset.tail()"
   ]
  },
  {
   "cell_type": "code",
   "execution_count": 71,
   "metadata": {},
   "outputs": [
    {
     "data": {
      "text/plain": [
       "array(['rice', 'maize', 'chickpea', 'kidneybeans', 'pigeonpeas',\n",
       "       'mothbeans', 'mungbean', 'blackgram', 'lentil', 'pomegranate',\n",
       "       'banana', 'mango', 'grapes', 'watermelon', 'muskmelon', 'apple',\n",
       "       'orange', 'papaya', 'coconut', 'cotton', 'jute', 'coffee'],\n",
       "      dtype=object)"
      ]
     },
     "execution_count": 71,
     "metadata": {},
     "output_type": "execute_result"
    }
   ],
   "source": [
    "dataset.label.unique()"
   ]
  },
  {
   "cell_type": "code",
   "execution_count": 72,
   "metadata": {},
   "outputs": [],
   "source": [
    "X = dataset.iloc[:,[0,6]].values"
   ]
  },
  {
   "cell_type": "code",
   "execution_count": 73,
   "metadata": {},
   "outputs": [
    {
     "data": {
      "text/plain": [
       "array([[ 90.       , 202.9355362],\n",
       "       [ 85.       , 226.6555374],\n",
       "       [ 60.       , 263.9642476],\n",
       "       ...,\n",
       "       [118.       , 173.3228386],\n",
       "       [117.       , 127.1752928],\n",
       "       [104.       , 140.9370415]])"
      ]
     },
     "execution_count": 73,
     "metadata": {},
     "output_type": "execute_result"
    }
   ],
   "source": [
    "X"
   ]
  },
  {
   "cell_type": "code",
   "execution_count": 74,
   "metadata": {},
   "outputs": [],
   "source": [
    "Y=dataset.iloc[:,-1].values"
   ]
  },
  {
   "cell_type": "code",
   "execution_count": 75,
   "metadata": {},
   "outputs": [
    {
     "data": {
      "text/plain": [
       "array(['rice', 'rice', 'rice', ..., 'coffee', 'coffee', 'coffee'],\n",
       "      dtype=object)"
      ]
     },
     "execution_count": 75,
     "metadata": {},
     "output_type": "execute_result"
    }
   ],
   "source": [
    "Y"
   ]
  },
  {
   "cell_type": "code",
   "execution_count": 76,
   "metadata": {},
   "outputs": [
    {
     "data": {
      "image/png": "[encoded data removed]",
      "text/plain": [
       "<Figure size 432x288 with 1 Axes>"
      ]
     },
     "metadata": {
      "needs_background": "light"
     },
     "output_type": "display_data"
    }
   ],
   "source": [
    "from sklearn.cluster import KMeans\n",
    "wcss = []\n",
    "for i in range(1, 11):\n",
    "    kmeans = KMeans(n_clusters = i, init = 'k-means++', random_state = 42)\n",
    "    kmeans.fit(X)\n",
    "    wcss.append(kmeans.inertia_)\n",
    "plt.plot(range(1, 11), wcss)\n",
    "plt.title('The Elbow Method')\n",
    "plt.xlabel('Number of clusters')\n",
    "plt.ylabel('WCSS')\n",
    "plt.show()"
   ]
  },
  {
   "cell_type": "code",
   "execution_count": 77,
   "metadata": {},
   "outputs": [],
   "source": [
    "kmeans = KMeans(n_clusters = 3, init = 'k-means++', random_state = 42)\n",
    "y_kmeans = kmeans.fit_predict(X)"
   ]
  },
  {
   "cell_type": "code",
   "execution_count": 78,
   "metadata": {},
   "outputs": [
    {
     "data": {
      "image/png": "[encoded data removed]",
      "text/plain": [
       "<Figure size 432x288 with 1 Axes>"
      ]
     },
     "metadata": {
      "needs_background": "light"
     },
     "output_type": "display_data"
    }
   ],
   "source": [
    "plt.scatter(X[y_kmeans == 0, 0], X[y_kmeans == 0, 1], s = 100, c = 'red', label = 'Cluster 1')\n",
    "plt.scatter(X[y_kmeans == 1, 0], X[y_kmeans == 1, 1], s = 100, c = 'blue', label = 'Cluster 2')\n",
    "plt.scatter(X[y_kmeans == 2, 0], X[y_kmeans == 2, 1], s = 100, c = 'green', label = 'Cluster 3')\n",
    "plt.scatter(X[y_kmeans == 3, 0], X[y_kmeans == 3, 1], s = 100, c = 'cyan', label = 'Cluster 4')\n",
    "plt.scatter(X[y_kmeans == 4, 0], X[y_kmeans == 4, 1], s = 100, c = 'magenta', label = 'Cluster 5')\n",
    "plt.scatter(kmeans.cluster_centers_[:, 0], kmeans.cluster_centers_[:, 1], s = 300, c = 'yellow', label = 'Centroids')\n",
    "plt.title('Clusters of crops')\n",
    "plt.xlabel('Column 1-6 data values')\n",
    "plt.ylabel('crop label')\n",
    "plt.legend()\n",
    "plt.show()"
   ]
  },
  {
   "cell_type": "code",
   "execution_count": 79,
   "metadata": {},
   "outputs": [
    {
     "data": {
      "text/html": [
       "<div>\n",
       "<style scoped>\n",
       "    .dataframe tbody tr th:only-of-type {\n",
       "        vertical-align: middle;\n",
       "    }\n",
       "\n",
       "    .dataframe tbody tr th {\n",
       "        vertical-align: top;\n",
       "    }\n",
       "\n",
       "    .dataframe thead th {\n",
       "        text-align: right;\n",
       "    }\n",
       "</style>\n",
       "<table border=\"1\" class=\"dataframe\">\n",
       "  <thead>\n",
       "    <tr style=\"text-align: right;\">\n",
       "      <th></th>\n",
       "      <th>N</th>\n",
       "      <th>P</th>\n",
       "      <th>K</th>\n",
       "      <th>temperature</th>\n",
       "      <th>humidity</th>\n",
       "      <th>ph</th>\n",
       "      <th>rainfall</th>\n",
       "      <th>label</th>\n",
       "    </tr>\n",
       "  </thead>\n",
       "  <tbody>\n",
       "    <tr>\n",
       "      <th>0</th>\n",
       "      <td>90</td>\n",
       "      <td>42</td>\n",
       "      <td>43</td>\n",
       "      <td>20.879744</td>\n",
       "      <td>82.002744</td>\n",
       "      <td>6.502985</td>\n",
       "      <td>202.935536</td>\n",
       "      <td>rice</td>\n",
       "    </tr>\n",
       "    <tr>\n",
       "      <th>1</th>\n",
       "      <td>85</td>\n",
       "      <td>58</td>\n",
       "      <td>41</td>\n",
       "      <td>21.770462</td>\n",
       "      <td>80.319644</td>\n",
       "      <td>7.038096</td>\n",
       "      <td>226.655537</td>\n",
       "      <td>rice</td>\n",
       "    </tr>\n",
       "    <tr>\n",
       "      <th>2</th>\n",
       "      <td>60</td>\n",
       "      <td>55</td>\n",
       "      <td>44</td>\n",
       "      <td>23.004459</td>\n",
       "      <td>82.320763</td>\n",
       "      <td>7.840207</td>\n",
       "      <td>263.964248</td>\n",
       "      <td>rice</td>\n",
       "    </tr>\n",
       "    <tr>\n",
       "      <th>3</th>\n",
       "      <td>74</td>\n",
       "      <td>35</td>\n",
       "      <td>40</td>\n",
       "      <td>26.491096</td>\n",
       "      <td>80.158363</td>\n",
       "      <td>6.980401</td>\n",
       "      <td>242.864034</td>\n",
       "      <td>rice</td>\n",
       "    </tr>\n",
       "    <tr>\n",
       "      <th>4</th>\n",
       "      <td>78</td>\n",
       "      <td>42</td>\n",
       "      <td>42</td>\n",
       "      <td>20.130175</td>\n",
       "      <td>81.604873</td>\n",
       "      <td>7.628473</td>\n",
       "      <td>262.717340</td>\n",
       "      <td>rice</td>\n",
       "    </tr>\n",
       "    <tr>\n",
       "      <th>...</th>\n",
       "      <td>...</td>\n",
       "      <td>...</td>\n",
       "      <td>...</td>\n",
       "      <td>...</td>\n",
       "      <td>...</td>\n",
       "      <td>...</td>\n",
       "      <td>...</td>\n",
       "      <td>...</td>\n",
       "    </tr>\n",
       "    <tr>\n",
       "      <th>2195</th>\n",
       "      <td>107</td>\n",
       "      <td>34</td>\n",
       "      <td>32</td>\n",
       "      <td>26.774637</td>\n",
       "      <td>66.413269</td>\n",
       "      <td>6.780064</td>\n",
       "      <td>177.774507</td>\n",
       "      <td>coffee</td>\n",
       "    </tr>\n",
       "    <tr>\n",
       "      <th>2196</th>\n",
       "      <td>99</td>\n",
       "      <td>15</td>\n",
       "      <td>27</td>\n",
       "      <td>27.417112</td>\n",
       "      <td>56.636362</td>\n",
       "      <td>6.086922</td>\n",
       "      <td>127.924610</td>\n",
       "      <td>coffee</td>\n",
       "    </tr>\n",
       "    <tr>\n",
       "      <th>2197</th>\n",
       "      <td>118</td>\n",
       "      <td>33</td>\n",
       "      <td>30</td>\n",
       "      <td>24.131797</td>\n",
       "      <td>67.225123</td>\n",
       "      <td>6.362608</td>\n",
       "      <td>173.322839</td>\n",
       "      <td>coffee</td>\n",
       "    </tr>\n",
       "    <tr>\n",
       "      <th>2198</th>\n",
       "      <td>117</td>\n",
       "      <td>32</td>\n",
       "      <td>34</td>\n",
       "      <td>26.272418</td>\n",
       "      <td>52.127394</td>\n",
       "      <td>6.758793</td>\n",
       "      <td>127.175293</td>\n",
       "      <td>coffee</td>\n",
       "    </tr>\n",
       "    <tr>\n",
       "      <th>2199</th>\n",
       "      <td>104</td>\n",
       "      <td>18</td>\n",
       "      <td>30</td>\n",
       "      <td>23.603016</td>\n",
       "      <td>60.396475</td>\n",
       "      <td>6.779833</td>\n",
       "      <td>140.937041</td>\n",
       "      <td>coffee</td>\n",
       "    </tr>\n",
       "  </tbody>\n",
       "</table>\n",
       "<p>2200 rows × 8 columns</p>\n",
       "</div>"
      ],
      "text/plain": [
       "        N   P   K  temperature   humidity        ph    rainfall   label\n",
       "0      90  42  43    20.879744  82.002744  6.502985  202.935536    rice\n",
       "1      85  58  41    21.770462  80.319644  7.038096  226.655537    rice\n",
       "2      60  55  44    23.004459  82.320763  7.840207  263.964248    rice\n",
       "3      74  35  40    26.491096  80.158363  6.980401  242.864034    rice\n",
       "4      78  42  42    20.130175  81.604873  7.628473  262.717340    rice\n",
       "...   ...  ..  ..          ...        ...       ...         ...     ...\n",
       "2195  107  34  32    26.774637  66.413269  6.780064  177.774507  coffee\n",
       "2196   99  15  27    27.417112  56.636362  6.086922  127.924610  coffee\n",
       "2197  118  33  30    24.131797  67.225123  6.362608  173.322839  coffee\n",
       "2198  117  32  34    26.272418  52.127394  6.758793  127.175293  coffee\n",
       "2199  104  18  30    23.603016  60.396475  6.779833  140.937041  coffee\n",
       "\n",
       "[2200 rows x 8 columns]"
      ]
     },
     "execution_count": 79,
     "metadata": {},
     "output_type": "execute_result"
    }
   ],
   "source": [
    "dataset"
   ]
  },
  {
   "cell_type": "code",
   "execution_count": 80,
   "metadata": {},
   "outputs": [],
   "source": [
    "from sklearn.preprocessing import LabelEncoder\n",
    "le = LabelEncoder()\n",
    "Y = le.fit_transform(y)"
   ]
  },
  {
   "cell_type": "code",
   "execution_count": 81,
   "metadata": {},
   "outputs": [
    {
     "data": {
      "text/plain": [
       "array([20, 20, 20, ...,  5,  5,  5])"
      ]
     },
     "execution_count": 81,
     "metadata": {},
     "output_type": "execute_result"
    }
   ],
   "source": [
    "Y"
   ]
  },
  {
   "cell_type": "code",
   "execution_count": 82,
   "metadata": {},
   "outputs": [],
   "source": [
    "from sklearn.model_selection import train_test_split\n",
    "X_train, X_test, Y_train, Y_test = train_test_split(X, Y, test_size = 0.2, random_state = 0)"
   ]
  },
  {
   "cell_type": "code",
   "execution_count": 83,
   "metadata": {},
   "outputs": [
    {
     "data": {
      "text/plain": [
       "array([[ 27.        , 116.7036582 ],\n",
       "       [ 81.        , 150.3166152 ],\n",
       "       [ 90.        , 175.1742112 ],\n",
       "       ...,\n",
       "       [ 35.        ,  69.5274407 ],\n",
       "       [ 39.        ,  41.02682925],\n",
       "       [ 14.        , 112.5090516 ]])"
      ]
     },
     "execution_count": 83,
     "metadata": {},
     "output_type": "execute_result"
    }
   ],
   "source": [
    "X_train"
   ]
  },
  {
   "cell_type": "code",
   "execution_count": 84,
   "metadata": {},
   "outputs": [
    {
     "data": {
      "text/plain": [
       "LinearRegression()"
      ]
     },
     "execution_count": 84,
     "metadata": {},
     "output_type": "execute_result"
    }
   ],
   "source": [
    "from sklearn.linear_model import LinearRegression\n",
    "regressor = LinearRegression()\n",
    "regressor.fit(X_train, Y_train)"
   ]
  },
  {
   "cell_type": "code",
   "execution_count": 88,
   "metadata": {},
   "outputs": [],
   "source": [
    "from sklearn.preprocessing import StandardScaler\n",
    "sc = StandardScaler()\n",
    "X_train = sc.fit_transform(X_train)\n",
    "X_test = sc.transform(X_test)"
   ]
  },
  {
   "cell_type": "code",
   "execution_count": 90,
   "metadata": {},
   "outputs": [
    {
     "data": {
      "text/plain": [
       "array([[-0.64,  0.24],\n",
       "       [ 0.81,  0.85],\n",
       "       [ 1.06,  1.3 ],\n",
       "       ...,\n",
       "       [-0.43, -0.62],\n",
       "       [-0.32, -1.13],\n",
       "       [-1.  ,  0.16]])"
      ]
     },
     "execution_count": 90,
     "metadata": {},
     "output_type": "execute_result"
    }
   ],
   "source": [
    "X_train"
   ]
  },
  {
   "cell_type": "code",
   "execution_count": 91,
   "metadata": {},
   "outputs": [
    {
     "data": {
      "text/plain": [
       "array([ 0,  8,  8, ...,  2, 10, 16])"
      ]
     },
     "execution_count": 91,
     "metadata": {},
     "output_type": "execute_result"
    }
   ],
   "source": [
    "Y_train"
   ]
  },
  {
   "cell_type": "code",
   "execution_count": 92,
   "metadata": {},
   "outputs": [
    {
     "data": {
      "text/plain": [
       "RandomForestClassifier(criterion='entropy', n_estimators=10, random_state=0)"
      ]
     },
     "execution_count": 92,
     "metadata": {},
     "output_type": "execute_result"
    }
   ],
   "source": [
    "from sklearn.ensemble import RandomForestClassifier\n",
    "classifier = RandomForestClassifier(n_estimators = 10, criterion = 'entropy', random_state = 0)\n",
    "classifier.fit(X_train, Y_train)"
   ]
  },
  {
   "cell_type": "code",
   "execution_count": 94,
   "metadata": {},
   "outputs": [
    {
     "name": "stdout",
     "output_type": "stream",
     "text": [
      "[[ 6 21]\n",
      " [21 21]\n",
      " [ 7  7]\n",
      " [ 3  3]\n",
      " [ 7  2]\n",
      " [17 20]\n",
      " [13 13]\n",
      " [19  9]\n",
      " [15 15]\n",
      " [ 1  1]\n",
      " [14 13]\n",
      " [ 8  5]\n",
      " [14 10]\n",
      " [10 14]\n",
      " [12 12]\n",
      " [ 0  0]\n",
      " [ 5  5]\n",
      " [14 10]\n",
      " [ 8  5]\n",
      " [12 12]\n",
      " [ 4  4]\n",
      " [ 2  2]\n",
      " [ 4  9]\n",
      " [ 8  8]\n",
      " [ 6  6]\n",
      " [ 5  5]\n",
      " [14 10]\n",
      " [12 16]\n",
      " [14 13]\n",
      " [ 9  9]\n",
      " [16 19]\n",
      " [20 20]\n",
      " [11 11]\n",
      " [15 15]\n",
      " [ 4  4]\n",
      " [ 6  6]\n",
      " [12 12]\n",
      " [12 12]\n",
      " [21 21]\n",
      " [ 2 13]\n",
      " [11 11]\n",
      " [ 2  2]\n",
      " [16 18]\n",
      " [21 21]\n",
      " [ 9 18]\n",
      " [14 14]\n",
      " [13  9]\n",
      " [ 9  9]\n",
      " [ 6  6]\n",
      " [14 14]\n",
      " [14 13]\n",
      " [ 7  2]\n",
      " [ 0  0]\n",
      " [15 15]\n",
      " [ 4 18]\n",
      " [ 1  1]\n",
      " [ 4 17]\n",
      " [12 12]\n",
      " [10 10]\n",
      " [ 6  6]\n",
      " [ 9 16]\n",
      " [14 14]\n",
      " [21 21]\n",
      " [20 20]\n",
      " [15 15]\n",
      " [ 0  0]\n",
      " [ 2  7]\n",
      " [ 5  5]\n",
      " [ 0  0]\n",
      " [16 16]\n",
      " [18  4]\n",
      " [ 0 19]\n",
      " [ 9  9]\n",
      " [ 1 11]\n",
      " [13  7]\n",
      " [10 13]\n",
      " [ 7  3]\n",
      " [11 11]\n",
      " [20  8]\n",
      " [12 12]\n",
      " [20 20]\n",
      " [ 7  2]\n",
      " [21 21]\n",
      " [21 21]\n",
      " [15 15]\n",
      " [ 6  6]\n",
      " [11 11]\n",
      " [10 10]\n",
      " [ 3 13]\n",
      " [11 17]\n",
      " [ 2  2]\n",
      " [ 8  8]\n",
      " [13 14]\n",
      " [ 7  7]\n",
      " [10 14]\n",
      " [11 11]\n",
      " [ 5  5]\n",
      " [ 5  8]\n",
      " [14 10]\n",
      " [12  3]\n",
      " [ 0 16]\n",
      " [ 8  8]\n",
      " [13 14]\n",
      " [ 6  1]\n",
      " [11  1]\n",
      " [20 20]\n",
      " [21 21]\n",
      " [ 5  5]\n",
      " [19 18]\n",
      " [15 15]\n",
      " [15 15]\n",
      " [12 12]\n",
      " [ 5  5]\n",
      " [ 2  7]\n",
      " [ 9 16]\n",
      " [19 19]\n",
      " [10 14]\n",
      " [14 10]\n",
      " [11 11]\n",
      " [ 8  8]\n",
      " [19 19]\n",
      " [14 10]\n",
      " [19 16]\n",
      " [ 3  3]\n",
      " [ 3  3]\n",
      " [ 2  2]\n",
      " [19 19]\n",
      " [19 16]\n",
      " [ 2  3]\n",
      " [ 4 17]\n",
      " [13 13]\n",
      " [ 2 13]\n",
      " [15 15]\n",
      " [14 14]\n",
      " [11 11]\n",
      " [13 14]\n",
      " [ 4  4]\n",
      " [ 0 19]\n",
      " [ 0 16]\n",
      " [ 2  2]\n",
      " [ 2  2]\n",
      " [ 7  7]\n",
      " [16  0]\n",
      " [ 5  5]\n",
      " [ 3  3]\n",
      " [ 0  0]\n",
      " [ 8  8]\n",
      " [12 12]\n",
      " [21 21]\n",
      " [17 17]\n",
      " [16 16]\n",
      " [ 4  4]\n",
      " [ 7 13]\n",
      " [ 1  1]\n",
      " [16 19]\n",
      " [ 2  3]\n",
      " [21 21]\n",
      " [ 3  2]\n",
      " [19  0]\n",
      " [ 8  8]\n",
      " [10 10]\n",
      " [ 4 18]\n",
      " [ 8  8]\n",
      " [ 0  9]\n",
      " [ 9  9]\n",
      " [15 15]\n",
      " [20 20]\n",
      " [15 15]\n",
      " [ 1  1]\n",
      " [16 16]\n",
      " [12 18]\n",
      " [16  0]\n",
      " [10 13]\n",
      " [ 9  4]\n",
      " [ 6  6]\n",
      " [14 14]\n",
      " [ 3  9]\n",
      " [16 19]\n",
      " [ 2 17]\n",
      " [19 16]\n",
      " [20 20]\n",
      " [17 17]\n",
      " [17 17]\n",
      " [12 18]\n",
      " [19  9]\n",
      " [ 1  1]\n",
      " [ 4  4]\n",
      " [ 9 18]\n",
      " [20 20]\n",
      " [17 17]\n",
      " [ 2 11]\n",
      " [ 8  8]\n",
      " [10 13]\n",
      " [20 20]\n",
      " [11 11]\n",
      " [ 5  5]\n",
      " [18 18]\n",
      " [ 9  4]\n",
      " [ 3  3]\n",
      " [ 3 12]\n",
      " [ 4  4]\n",
      " [ 0 19]\n",
      " [11 11]\n",
      " [ 7 13]\n",
      " [ 7 13]\n",
      " [ 0 16]\n",
      " [15 15]\n",
      " [11 11]\n",
      " [ 4 18]\n",
      " [ 1  1]\n",
      " [ 3  3]\n",
      " [ 9  2]\n",
      " [ 4 18]\n",
      " [ 0 16]\n",
      " [ 2 13]\n",
      " [14 14]\n",
      " [12 12]\n",
      " [ 2 17]\n",
      " [15 15]\n",
      " [19 19]\n",
      " [ 8 20]\n",
      " [20 20]\n",
      " [ 2  2]\n",
      " [18 17]\n",
      " [ 2  2]\n",
      " [ 5  5]\n",
      " [11 11]\n",
      " [ 8  5]\n",
      " [16 16]\n",
      " [20 20]\n",
      " [10 13]\n",
      " [14 14]\n",
      " [19 16]\n",
      " [19  9]\n",
      " [ 9 19]\n",
      " [ 4  4]\n",
      " [12 12]\n",
      " [10 14]\n",
      " [ 6  6]\n",
      " [20 20]\n",
      " [ 3  3]\n",
      " [14 14]\n",
      " [19  0]\n",
      " [ 4 18]\n",
      " [ 9  2]\n",
      " [20 20]\n",
      " [21 21]\n",
      " [ 7  2]\n",
      " [16 19]\n",
      " [16 16]\n",
      " [11 11]\n",
      " [ 7  7]\n",
      " [ 3  3]\n",
      " [ 9 18]\n",
      " [ 8  8]\n",
      " [ 2 17]\n",
      " [ 0 19]\n",
      " [ 5  5]\n",
      " [12 12]\n",
      " [13 13]\n",
      " [ 5  8]\n",
      " [21 21]\n",
      " [ 0 19]\n",
      " [20 20]\n",
      " [ 7  7]\n",
      " [18  4]\n",
      " [ 8  8]\n",
      " [14 10]\n",
      " [ 3  3]\n",
      " [ 5  5]\n",
      " [ 5  5]\n",
      " [17 17]\n",
      " [ 0 19]\n",
      " [11 11]\n",
      " [20 20]\n",
      " [ 3  3]\n",
      " [18 18]\n",
      " [12 16]\n",
      " [19 19]\n",
      " [18 18]\n",
      " [ 4  4]\n",
      " [19  9]\n",
      " [19 19]\n",
      " [15 15]\n",
      " [13 13]\n",
      " [12 12]\n",
      " [10 10]\n",
      " [ 6  1]\n",
      " [ 2  2]\n",
      " [12 12]\n",
      " [18  9]\n",
      " [12 12]\n",
      " [ 6  6]\n",
      " [13 14]\n",
      " [17 17]\n",
      " [ 7  7]\n",
      " [ 7  7]\n",
      " [16 18]\n",
      " [ 8 17]\n",
      " [ 8  8]\n",
      " [20 20]\n",
      " [ 2  3]\n",
      " [15 15]\n",
      " [ 5  5]\n",
      " [21 21]\n",
      " [ 8 20]\n",
      " [ 8  8]\n",
      " [17 17]\n",
      " [ 7  7]\n",
      " [15 15]\n",
      " [ 2  2]\n",
      " [10 13]\n",
      " [14 13]\n",
      " [ 3  3]\n",
      " [ 9  2]\n",
      " [12 12]\n",
      " [ 6  1]\n",
      " [12 12]\n",
      " [ 9 19]\n",
      " [ 8  8]\n",
      " [19 16]\n",
      " [15 15]\n",
      " [12  3]\n",
      " [13 10]\n",
      " [ 6  6]\n",
      " [17 17]\n",
      " [ 3  7]\n",
      " [ 4  9]\n",
      " [14 10]\n",
      " [19  0]\n",
      " [17 20]\n",
      " [15 15]\n",
      " [ 0  0]\n",
      " [ 4 17]\n",
      " [ 2  2]\n",
      " [17  8]\n",
      " [ 7  3]\n",
      " [14 13]\n",
      " [10 10]\n",
      " [ 7  7]\n",
      " [20  8]\n",
      " [ 3  9]\n",
      " [15 15]\n",
      " [17 17]\n",
      " [13  7]\n",
      " [ 9 17]\n",
      " [20 20]\n",
      " [ 5  5]\n",
      " [15 15]\n",
      " [13 13]\n",
      " [ 1  1]\n",
      " [17 17]\n",
      " [16 16]\n",
      " [13  9]\n",
      " [21 21]\n",
      " [ 4 18]\n",
      " [ 0  0]\n",
      " [21 21]\n",
      " [21 21]\n",
      " [18 18]\n",
      " [ 0  9]\n",
      " [14 13]\n",
      " [12  9]\n",
      " [ 8  8]\n",
      " [18  4]\n",
      " [ 6  6]\n",
      " [18  9]\n",
      " [16 16]\n",
      " [ 6  6]\n",
      " [18 18]\n",
      " [ 0 19]\n",
      " [ 1  6]\n",
      " [ 6  6]\n",
      " [16  0]\n",
      " [ 6  6]\n",
      " [16  0]\n",
      " [19 16]\n",
      " [ 2 11]\n",
      " [ 7  7]\n",
      " [ 1  1]\n",
      " [16  0]\n",
      " [10 13]\n",
      " [20 20]\n",
      " [ 7  9]\n",
      " [ 1  1]\n",
      " [ 8 20]\n",
      " [14 10]\n",
      " [ 3  3]\n",
      " [16 19]\n",
      " [ 1  1]\n",
      " [17  3]\n",
      " [15 15]\n",
      " [19 19]\n",
      " [18  0]\n",
      " [13 10]\n",
      " [15 15]\n",
      " [12 16]\n",
      " [ 2  2]\n",
      " [15 15]\n",
      " [10 13]\n",
      " [12 12]\n",
      " [ 3  3]\n",
      " [ 0 19]\n",
      " [12 12]\n",
      " [ 3  3]\n",
      " [ 4  4]\n",
      " [15 15]\n",
      " [ 1  1]\n",
      " [ 4 18]\n",
      " [ 8 17]\n",
      " [ 5  8]\n",
      " [14 10]\n",
      " [ 6  6]\n",
      " [20 20]\n",
      " [ 6  1]\n",
      " [ 9  4]\n",
      " [20 20]\n",
      " [ 2  2]\n",
      " [11 11]\n",
      " [ 0 16]\n",
      " [21 21]\n",
      " [20 20]\n",
      " [ 0  0]\n",
      " [ 7  7]\n",
      " [ 4 18]\n",
      " [ 2  7]\n",
      " [ 2  3]\n",
      " [12 12]\n",
      " [ 8  8]\n",
      " [ 0 19]\n",
      " [11 11]\n",
      " [12 12]\n",
      " [ 2  7]\n",
      " [ 1  1]\n",
      " [14 14]\n",
      " [17 18]\n",
      " [ 1  1]\n",
      " [ 6  6]\n",
      " [ 9  2]\n",
      " [ 0  0]]\n"
     ]
    }
   ],
   "source": [
    "Y_pred = classifier.predict(X_test)\n",
    "print(np.concatenate((Y_pred.reshape(len(Y_pred),1), Y_test.reshape(len(Y_test),1)),1))"
   ]
  },
  {
   "cell_type": "code",
   "execution_count": 95,
   "metadata": {},
   "outputs": [
    {
     "data": {
      "text/plain": [
       "array([21, 21,  7,  3,  2, 20, 13,  9, 15,  1, 13,  5, 10, 14, 12,  0,  5,\n",
       "       10,  5, 12,  4,  2,  9,  8,  6,  5, 10, 16, 13,  9, 19, 20, 11, 15,\n",
       "        4,  6, 12, 12, 21, 13, 11,  2, 18, 21, 18, 14,  9,  9,  6, 14, 13,\n",
       "        2,  0, 15, 18,  1, 17, 12, 10,  6, 16, 14, 21, 20, 15,  0,  7,  5,\n",
       "        0, 16,  4, 19,  9, 11,  7, 13,  3, 11,  8, 12, 20,  2, 21, 21, 15,\n",
       "        6, 11, 10, 13, 17,  2,  8, 14,  7, 14, 11,  5,  8, 10,  3, 16,  8,\n",
       "       14,  1,  1, 20, 21,  5, 18, 15, 15, 12,  5,  7, 16, 19, 14, 10, 11,\n",
       "        8, 19, 10, 16,  3,  3,  2, 19, 16,  3, 17, 13, 13, 15, 14, 11, 14,\n",
       "        4, 19, 16,  2,  2,  7,  0,  5,  3,  0,  8, 12, 21, 17, 16,  4, 13,\n",
       "        1, 19,  3, 21,  2,  0,  8, 10, 18,  8,  9,  9, 15, 20, 15,  1, 16,\n",
       "       18,  0, 13,  4,  6, 14,  9, 19, 17, 16, 20, 17, 17, 18,  9,  1,  4,\n",
       "       18, 20, 17, 11,  8, 13, 20, 11,  5, 18,  4,  3, 12,  4, 19, 11, 13,\n",
       "       13, 16, 15, 11, 18,  1,  3,  2, 18, 16, 13, 14, 12, 17, 15, 19, 20,\n",
       "       20,  2, 17,  2,  5, 11,  5, 16, 20, 13, 14, 16,  9, 19,  4, 12, 14,\n",
       "        6, 20,  3, 14,  0, 18,  2, 20, 21,  2, 19, 16, 11,  7,  3, 18,  8,\n",
       "       17, 19,  5, 12, 13,  8, 21, 19, 20,  7,  4,  8, 10,  3,  5,  5, 17,\n",
       "       19, 11, 20,  3, 18, 16, 19, 18,  4,  9, 19, 15, 13, 12, 10,  1,  2,\n",
       "       12,  9, 12,  6, 14, 17,  7,  7, 18, 17,  8, 20,  3, 15,  5, 21, 20,\n",
       "        8, 17,  7, 15,  2, 13, 13,  3,  2, 12,  1, 12, 19,  8, 16, 15,  3,\n",
       "       10,  6, 17,  7,  9, 10,  0, 20, 15,  0, 17,  2,  8,  3, 13, 10,  7,\n",
       "        8,  9, 15, 17,  7, 17, 20,  5, 15, 13,  1, 17, 16,  9, 21, 18,  0,\n",
       "       21, 21, 18,  9, 13,  9,  8,  4,  6,  9, 16,  6, 18, 19,  6,  6,  0,\n",
       "        6,  0, 16, 11,  7,  1,  0, 13, 20,  9,  1, 20, 10,  3, 19,  1,  3,\n",
       "       15, 19,  0, 10, 15, 16,  2, 15, 13, 12,  3, 19, 12,  3,  4, 15,  1,\n",
       "       18, 17,  8, 10,  6, 20,  1,  4, 20,  2, 11, 16, 21, 20,  0,  7, 18,\n",
       "        7,  3, 12,  8, 19, 11, 12,  7,  1, 14, 18,  1,  6,  2,  0])"
      ]
     },
     "execution_count": 95,
     "metadata": {},
     "output_type": "execute_result"
    }
   ],
   "source": [
    "Y_test"
   ]
  },
  {
   "cell_type": "code",
   "execution_count": 96,
   "metadata": {},
   "outputs": [
    {
     "name": "stdout",
     "output_type": "stream",
     "text": [
      "[[ 9  0  0  0  0  0  0  0  0  0  0  0  0  0  0  0  5  0  1  3  0  0]\n",
      " [ 0 13  0  0  0  0  4  0  0  0  0  1  0  0  0  0  0  0  0  0  0  0]\n",
      " [ 0  0 13  1  0  0  0  4  0  4  0  0  0  0  0  0  0  0  0  0  0  0]\n",
      " [ 0  0  4 14  0  0  0  2  0  0  0  0  2  0  0  0  0  1  0  0  0  0]\n",
      " [ 0  0  0  0  9  0  0  0  0  3  0  0  0  0  0  0  0  0  3  0  0  0]\n",
      " [ 0  0  0  0  0 14  0  0  3  0  0  0  0  0  0  0  0  0  0  0  0  0]\n",
      " [ 0  1  0  0  0  0 15  0  0  0  0  0  0  0  0  0  0  0  0  0  0  0]\n",
      " [ 0  0  4  1  0  0  0 11  0  0  0  0  0  2  0  0  0  0  0  0  0  0]\n",
      " [ 0  0  0  0  0  3  0  0 15  0  0  0  0  0  0  0  0  1  0  0  2  0]\n",
      " [ 2  0  0  2  2  0  0  1  0  4  0  0  1  2  0  0  0  0  2  4  0  0]\n",
      " [ 0  0  0  0  0  0  0  0  0  0  5  0  0  2 10  0  0  0  0  0  0  0]\n",
      " [ 0  1  2  0  0  0  0  0  0  0  0 15  0  0  0  0  0  0  0  0  0  0]\n",
      " [ 0  0  0  1  0  0  0  0  0  0  0  0 20  0  0  0  0  0  0  0  0  0]\n",
      " [ 0  0  3  1  0  0  0  3  0  0  7  0  0  5  6  0  0  0  0  0  0  0]\n",
      " [ 0  0  0  0  0  0  0  0  0  0  4  0  0  4  9  0  0  0  0  0  0  0]\n",
      " [ 0  0  0  0  0  0  0  0  0  0  0  0  0  0  0 23  0  0  0  0  0  0]\n",
      " [ 5  0  0  0  0  0  0  0  0  2  0  0  3  0  0  0  7  0  0  6  0  0]\n",
      " [ 0  0  3  0  3  0  0  0  2  1  0  1  0  0  0  0  0 10  1  0  0  0]\n",
      " [ 0  0  0  0  8  0  0  0  0  3  0  0  2  0  0  0  2  1  5  1  0  0]\n",
      " [ 9  0  0  0  0  0  0  0  0  2  0  0  0  0  0  0  5  0  0  7  0  0]\n",
      " [ 0  0  0  0  0  0  0  0  3  0  0  0  0  0  0  0  0  2  0  0 20  0]\n",
      " [ 0  0  0  0  0  0  1  0  0  0  0  0  0  0  0  0  0  0  0  0  0 16]]\n"
     ]
    },
    {
     "data": {
      "text/plain": [
       "0.5886363636363636"
      ]
     },
     "execution_count": 96,
     "metadata": {},
     "output_type": "execute_result"
    }
   ],
   "source": [
    "from sklearn.metrics import confusion_matrix, accuracy_score\n",
    "cm = confusion_matrix(Y_test, Y_pred)\n",
    "print(cm)\n",
    "accuracy_score(Y_test, Y_pred)"
   ]
  },
  {
   "cell_type": "code",
   "execution_count": null,
   "metadata": {},
   "outputs": [],
   "source": []
  }
 ],
 "metadata": {
  "kernelspec": {
   "display_name": "Python 3.8.5 64-bit ('tf-gpu': conda)",
   "language": "python",
   "name": "python38564bittfgpucondab692ee535c2b4e42a09e66ae9457b906"
  },
  "language_info": {
   "codemirror_mode": {
    "name": "ipython",
    "version": 3
   },
   "file_extension": ".py",
   "mimetype": "text/x-python",
   "name": "python",
   "nbconvert_exporter": "python",
   "pygments_lexer": "ipython3",
   "version": "3.8.5-final"
  }
 },
 "nbformat": 4,
 "nbformat_minor": 4
}